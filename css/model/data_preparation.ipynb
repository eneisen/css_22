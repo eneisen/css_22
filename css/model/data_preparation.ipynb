{
 "cells": [
  {
   "cell_type": "code",
   "execution_count": 1,
   "metadata": {},
   "outputs": [],
   "source": [
    "import pandas as pd\n",
    "import os\n",
    "from edgeml import edgeml\n",
    "from pathlib import Path\n",
    "import tsfresh\n",
    "import datetime\n",
    "import numpy as np\n",
    "from mrmr import mrmr_classif"
   ]
  },
  {
   "cell_type": "code",
   "execution_count": 26,
   "metadata": {},
   "outputs": [],
   "source": [
    "key =  \"u3Uwyb3Ci/eDo95p8w1gH1naFyIMEgBO8EA23TpbYSD9ya76siL2AmKK9Y/7qtrLL+ABZiuYs/73UU0PwrQk2g==\"\n",
    "remoteUrl = \"https://app.edge-ml.org\"\n",
    "project = edgeml.getProject(remoteUrl, key)\n",
    "datasets = project['datasets']"
   ]
  },
  {
   "cell_type": "code",
   "execution_count": 27,
   "metadata": {},
   "outputs": [],
   "source": [
    "standing_frame = pd.DataFrame()\n",
    "standing_frame['timestamp'] = 0\n",
    "standing_frame.set_index('timestamp', inplace=True)\n",
    "\n",
    "for dataset in datasets:\n",
    "    labels = dataset['labels']\n",
    "    label_name = ''\n",
    "    if labels != []:\n",
    "        label_name = labels[0][0]['name']\n",
    "\n",
    "    if label_name == 'standing':\n",
    "        sensors = dataset['sensors']\n",
    "        for sensor in sensors:\n",
    "            sensorName = sensor['name']\n",
    "            data = sensor['data']\n",
    "            for dataPoint in data:\n",
    "                timestamp = dataPoint['timestamp']\n",
    "                dataPointValue = dataPoint['datapoint']\n",
    "                standing_frame.at[int(timestamp), sensorName] = dataPointValue\n",
    "\n",
    "standing_frame.index = pd.to_datetime(standing_frame.index, unit='ms')\n",
    "standing_frame['label'] = 0\n",
    "\n",
    "standing_frame['x0_std'] = standing_frame['x0'].rolling('2000ms').std()\n",
    "standing_frame['y0__std'] = standing_frame['y0'].rolling('2000ms').std()\n",
    "standing_frame['z0_std'] = standing_frame['z0'].rolling('2000ms').std()\n",
    "\n",
    "standing_frame['x_std'] = standing_frame['x'].rolling('2000ms').std()\n",
    "standing_frame['y_std'] = standing_frame['y'].rolling('2000ms').std()\n",
    "standing_frame['z_std'] = standing_frame['z'].rolling('2000ms').std()\n",
    "\n",
    "standing_frame['alpha_std'] = standing_frame['alpha'].rolling('2000ms').std()\n",
    "standing_frame['beta_std'] = standing_frame['beta'].rolling('2000ms').std()\n",
    "standing_frame['gamma_std'] = standing_frame['gamma'].rolling('2000ms').std()\n",
    "\n",
    "standing_frame['x0_mean'] = standing_frame['x0'].rolling('2000ms').mean()\n",
    "standing_frame['y0_mean'] = standing_frame['y0'].rolling('2000ms').mean()\n",
    "standing_frame['z0_mean'] = standing_frame['z0'].rolling('2000ms').mean()\n",
    "\n",
    "standing_frame['x_mean'] = standing_frame['x'].rolling('2000ms').mean()\n",
    "standing_frame['y_mean'] = standing_frame['y'].rolling('2000ms').mean()\n",
    "standing_frame['z_mean'] = standing_frame['z'].rolling('2000ms').mean()\n",
    "\n",
    "standing_frame['alpha_mean'] = standing_frame['alpha'].rolling('2000ms').mean()\n",
    "standing_frame['beta_mean'] = standing_frame['beta'].rolling('2000ms').mean()\n",
    "standing_frame['gamma_mean'] = standing_frame['gamma'].rolling('2000ms').mean()"
   ]
  },
  {
   "cell_type": "code",
   "execution_count": 28,
   "metadata": {},
   "outputs": [],
   "source": [
    "walking_frame = pd.DataFrame()\n",
    "walking_frame['timestamp'] = 0\n",
    "walking_frame.set_index('timestamp', inplace=True)\n",
    "\n",
    "for dataset in datasets:\n",
    "    labels = dataset['labels']\n",
    "    label_name = ''\n",
    "    if labels != []:\n",
    "        label_name = labels[0][0]['name']\n",
    "\n",
    "    if label_name == 'walking':\n",
    "        sensors = dataset['sensors']\n",
    "        for sensor in sensors:\n",
    "            sensorName = sensor['name']\n",
    "            data = sensor['data']\n",
    "            for dataPoint in data:\n",
    "                timestamp = dataPoint['timestamp']\n",
    "                dataPointValue = dataPoint['datapoint']\n",
    "                walking_frame.at[int(timestamp), sensorName] = dataPointValue\n",
    "\n",
    "walking_frame.index = pd.to_datetime(walking_frame.index, unit='ms')\n",
    "walking_frame['label'] = 1\n",
    "\n",
    "walking_frame['x0_std'] = walking_frame['x0'].rolling('2000ms').std()\n",
    "walking_frame['y0__std'] = walking_frame['y0'].rolling('2000ms').std()\n",
    "walking_frame['z0_std'] = walking_frame['z0'].rolling('2000ms').std()\n",
    "\n",
    "walking_frame['x_std'] = walking_frame['x'].rolling('2000ms').std()\n",
    "walking_frame['y_std'] = walking_frame['y'].rolling('2000ms').std()\n",
    "walking_frame['z_std'] = walking_frame['z'].rolling('2000ms').std()\n",
    "\n",
    "walking_frame['alpha_std'] = walking_frame['alpha'].rolling('2000ms').std()\n",
    "walking_frame['beta_std'] = walking_frame['beta'].rolling('2000ms').std()\n",
    "walking_frame['gamma_std'] = walking_frame['gamma'].rolling('2000ms').std()\n",
    "\n",
    "walking_frame['x0_mean'] = walking_frame['x0'].rolling('2000ms').mean()\n",
    "walking_frame['y0_mean'] = walking_frame['y0'].rolling('2000ms').mean()\n",
    "walking_frame['z0_mean'] = walking_frame['z0'].rolling('2000ms').mean()\n",
    "\n",
    "walking_frame['x_mean'] = walking_frame['x'].rolling('2000ms').mean()\n",
    "walking_frame['y_mean'] = walking_frame['y'].rolling('2000ms').mean()\n",
    "walking_frame['z_mean'] = walking_frame['z'].rolling('2000ms').mean()\n",
    "\n",
    "walking_frame['alpha_mean'] = walking_frame['alpha'].rolling('2000ms').mean()\n",
    "walking_frame['beta_mean'] = walking_frame['beta'].rolling('2000ms').mean()\n",
    "walking_frame['gamma_mean'] = walking_frame['gamma'].rolling('2000ms').mean()"
   ]
  },
  {
   "cell_type": "code",
   "execution_count": 29,
   "metadata": {},
   "outputs": [],
   "source": [
    "running_frame = pd.DataFrame()\n",
    "running_frame['timestamp'] = 0\n",
    "running_frame.set_index('timestamp', inplace=True)\n",
    "\n",
    "for dataset in datasets:\n",
    "    labels = dataset['labels']\n",
    "    label_name = ''\n",
    "    if labels != []:\n",
    "        label_name = labels[0][0]['name']\n",
    "\n",
    "    if label_name == 'running':\n",
    "        sensors = dataset['sensors']\n",
    "        for sensor in sensors:\n",
    "            sensorName = sensor['name']\n",
    "            data = sensor['data']\n",
    "            for dataPoint in data:\n",
    "                timestamp = dataPoint['timestamp']\n",
    "                dataPointValue = dataPoint['datapoint']\n",
    "                running_frame.at[int(timestamp), sensorName] = dataPointValue\n",
    "\n",
    "running_frame.index = pd.to_datetime(running_frame.index, unit='ms')\n",
    "running_frame['label'] = 2\n",
    "\n",
    "running_frame['x0_std'] = running_frame['x0'].rolling('2000ms').std()\n",
    "running_frame['y0__std'] = running_frame['y0'].rolling('2000ms').std()\n",
    "running_frame['z0_std'] = running_frame['z0'].rolling('2000ms').std()\n",
    "\n",
    "running_frame['x_std'] = running_frame['x'].rolling('2000ms').std()\n",
    "running_frame['y_std'] = running_frame['y'].rolling('2000ms').std()\n",
    "running_frame['z_std'] = running_frame['z'].rolling('2000ms').std()\n",
    "\n",
    "running_frame['alpha_std'] = running_frame['alpha'].rolling('2000ms').std()\n",
    "running_frame['beta_std'] = running_frame['beta'].rolling('2000ms').std()\n",
    "running_frame['gamma_std'] = running_frame['gamma'].rolling('2000ms').std()\n",
    "\n",
    "running_frame['x0_mean'] = running_frame['x0'].rolling('2000ms').mean()\n",
    "running_frame['y0_mean'] = running_frame['y0'].rolling('2000ms').mean()\n",
    "running_frame['z0_mean'] = running_frame['z0'].rolling('2000ms').mean()\n",
    "\n",
    "running_frame['x_mean'] = running_frame['x'].rolling('2000ms').mean()\n",
    "running_frame['y_mean'] = running_frame['y'].rolling('2000ms').mean()\n",
    "running_frame['z_mean'] = running_frame['z'].rolling('2000ms').mean()\n",
    "\n",
    "running_frame['alpha_mean'] = running_frame['alpha'].rolling('2000ms').mean()\n",
    "running_frame['beta_mean'] = running_frame['beta'].rolling('2000ms').mean()\n",
    "running_frame['gamma_mean'] = running_frame['gamma'].rolling('2000ms').mean()"
   ]
  },
  {
   "cell_type": "code",
   "execution_count": 43,
   "metadata": {},
   "outputs": [],
   "source": [
    "df = pd.concat([standing_frame, walking_frame, running_frame, ], ignore_index=True)"
   ]
  },
  {
   "cell_type": "code",
   "execution_count": 45,
   "metadata": {},
   "outputs": [],
   "source": [
    "df.drop(['x0', 'y0', 'z0', 'x', 'y', 'z', 'alpha', 'beta', 'gamma'], inplace=True, axis=1)\n",
    "df['label'] = df['label'].astype('category')"
   ]
  },
  {
   "cell_type": "code",
   "execution_count": 46,
   "metadata": {},
   "outputs": [],
   "source": [
    "df.dropna(inplace=True)\n"
   ]
  },
  {
   "cell_type": "code",
   "execution_count": 57,
   "metadata": {},
   "outputs": [],
   "source": [
    "df_features = df.drop(columns=['label'])\n",
    "df_label = pd.DataFrame(df['label'])"
   ]
  },
  {
   "cell_type": "code",
   "execution_count": 60,
   "metadata": {},
   "outputs": [
    {
     "name": "stderr",
     "output_type": "stream",
     "text": [
      "100%|██████████| 10/10 [00:00<00:00, 46.20it/s]\n"
     ]
    }
   ],
   "source": [
    "selected_features = mrmr_classif(X=df_features, y=df_label, K=10)"
   ]
  },
  {
   "cell_type": "code",
   "execution_count": 61,
   "metadata": {},
   "outputs": [],
   "source": [
    "df_selected_features = df_features[selected_features]"
   ]
  },
  {
   "cell_type": "code",
   "execution_count": 71,
   "metadata": {},
   "outputs": [],
   "source": [
    "df_selected_features.to_csv('features.csv', index=False )\n",
    "df_label.to_csv('label.csv', index=False)"
   ]
  }
 ],
 "metadata": {
  "kernelspec": {
   "display_name": "Python 3.9.7 ('ds_2021')",
   "language": "python",
   "name": "python3"
  },
  "language_info": {
   "codemirror_mode": {
    "name": "ipython",
    "version": 3
   },
   "file_extension": ".py",
   "mimetype": "text/x-python",
   "name": "python",
   "nbconvert_exporter": "python",
   "pygments_lexer": "ipython3",
   "version": "3.9.7"
  },
  "orig_nbformat": 4,
  "vscode": {
   "interpreter": {
    "hash": "c5304e0671b8de9e2516daf9771f83d80e22ad9cb9c681a6e6f8c1baa2d3bbae"
   }
  }
 },
 "nbformat": 4,
 "nbformat_minor": 2
}
